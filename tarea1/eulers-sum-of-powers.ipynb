{
 "cells": [
  {
   "cell_type": "markdown",
   "metadata": {},
   "source": [
    "En este notebook se verificará que la conjetura de suma de potencias de Euler es falsa usando contraejemplos ya conocidos. https://en.wikipedia.org/wiki/Euler%27s_sum_of_powers_conjecture"
   ]
  },
  {
   "cell_type": "markdown",
   "metadata": {},
   "source": [
    "Los contraejemplos que se ven abajo están son para un $k=5$. Los primeros cuatro elementos de cada sub-arreglo representan los enteros $a_1, a_2, a_3$ y $a_4$ respectivamente, y el último elemento representa el entero $b$."
   ]
  },
  {
   "cell_type": "code",
   "execution_count": 4,
   "metadata": {},
   "outputs": [],
   "source": [
    "counterexamples = [\n",
    "    [27, 84, 110, 133, 144],\n",
    "    [-220, 5027, 6237, 14068, 14132],\n",
    "    [55, 3183, 28969, 85282, 85359]\n",
    "]"
   ]
  },
  {
   "cell_type": "markdown",
   "metadata": {},
   "source": [
    "La función is_valid_counterexample verificará que los contraejemplos definidos arriba sean válidos."
   ]
  },
  {
   "cell_type": "code",
   "execution_count": 5,
   "metadata": {},
   "outputs": [],
   "source": [
    "def is_valid_counterexample(counterexample: list) -> bool:\n",
    "    a1, a2, a3, a4, b = counterexample\n",
    "    k: int = 5\n",
    "    if len(counterexample) < k and (a1 ** k + a2 ** k + a3 ** k + a4 ** k) == b ** k:\n",
    "        return True\n",
    "    return False"
   ]
  },
  {
   "cell_type": "markdown",
   "metadata": {},
   "source": [
    "El bloque de abajo recorrerá todos los contraejemplos y llamará a la función definida en el bloque de arriba para verificar que los contraejemplos son válidos, es decir, que la conjetura de suma de potencias de Euler es falsa."
   ]
  },
  {
   "cell_type": "code",
   "execution_count": 6,
   "metadata": {},
   "outputs": [
    {
     "name": "stdout",
     "output_type": "stream",
     "text": [
      "El contraejemplo 1 es válido: [27, 84, 110, 133, 144]\n",
      "El contraejemplo 2 es válido: [-220, 5027, 6237, 14068, 14132]\n",
      "El contraejemplo 3 es válido: [55, 3183, 28969, 85282, 85359]\n"
     ]
    }
   ],
   "source": [
    "for i, counterexample in enumerate(counterexamples):\n",
    "    if is_valid_counterexample(counterexample):\n",
    "        print(f\"El contraejemplo {i+1} es invalido: {counterexample}\")\n",
    "    else:\n",
    "        print(f\"El contraejemplo {i+1} es válido: {counterexample}\")\n"
   ]
  }
 ],
 "metadata": {
  "kernelspec": {
   "display_name": "Python 3",
   "language": "python",
   "name": "python3"
  },
  "language_info": {
   "codemirror_mode": {
    "name": "ipython",
    "version": 3
   },
   "file_extension": ".py",
   "mimetype": "text/x-python",
   "name": "python",
   "nbconvert_exporter": "python",
   "pygments_lexer": "ipython3",
   "version": "3.11.5"
  }
 },
 "nbformat": 4,
 "nbformat_minor": 2
}
