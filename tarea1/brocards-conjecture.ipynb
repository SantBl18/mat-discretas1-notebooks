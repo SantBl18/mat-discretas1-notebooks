{
 "cells": [
  {
   "cell_type": "markdown",
   "metadata": {},
   "source": [
    "En este notebook, se implementará un algoritmo donde dado un n concreto que indexa un número primo, se proveerán ejemplos donde se cumpla (o no) la conjetura de Brocard (https://en.wikipedia.org/wiki/Brocard%27s_conjecture) \n"
   ]
  },
  {
   "cell_type": "markdown",
   "metadata": {},
   "source": [
    "Importamos \"isqrt\" de la librería math de python. Esta función devuelve la raíz cuadrada entera de un entero no negativo.\n",
    "Las variables \"primeN\" y \"primeN1\" son $p_n$ y $p_{n+1}$ respectivamente\n"
   ]
  },
  {
   "cell_type": "code",
   "execution_count": 24,
   "metadata": {},
   "outputs": [],
   "source": [
    "from math import isqrt\n",
    "\n",
    "primeIndex: int = int(input(\"Ingrese un n mayor o igual que 2: \"))\n",
    "\n",
    "primeN: int = 0\n",
    "primeN1: int = 0"
   ]
  },
  {
   "cell_type": "markdown",
   "metadata": {},
   "source": [
    "La función set_primes se encarga de asignarle valores a primeN y primeN1 dependiendo del n que se haya introducido. Esta va contando los primos hasta llegar el enésimo primo + 1."
   ]
  },
  {
   "cell_type": "code",
   "execution_count": 25,
   "metadata": {},
   "outputs": [],
   "source": [
    "def set_primes(primeIndex: int) -> int:\n",
    "    currentPrime: int\n",
    "    primeCount: int = 0\n",
    "    n: int = 0\n",
    "    global primeN\n",
    "    global primeN1\n",
    "    while primeCount <= primeIndex + 1:\n",
    "        if is_prime(n):\n",
    "            currentPrime = n\n",
    "            primeCount += 1\n",
    "            if primeCount == primeIndex:\n",
    "                primeN = currentPrime\n",
    "            elif primeCount == primeIndex + 1:\n",
    "                primeN1 = currentPrime\n",
    "        n += 1"
   ]
  },
  {
   "cell_type": "markdown",
   "metadata": {},
   "source": [
    "La función is_prime se encarga de evaluar si un enteron n es primo o no. Este algoritmo se llama \"trial division\" y está mejor explicado en https://en.wikipedia.org/wiki/Primality_test#Simple_methods"
   ]
  },
  {
   "cell_type": "code",
   "execution_count": 26,
   "metadata": {},
   "outputs": [],
   "source": [
    "def is_prime(n: int) -> bool:\n",
    "    if n <= 3:\n",
    "        return n > 1\n",
    "    if n % 2 == 0 or n % 3 == 0:\n",
    "        return False\n",
    "    limit = isqrt(n)\n",
    "    for i in range (5, limit + 1, 6):\n",
    "        if n % i == 0 or n % (i + 2) == 0:\n",
    "            return False\n",
    "    return True"
   ]
  },
  {
   "cell_type": "markdown",
   "metadata": {},
   "source": [
    "La funcion print_primes_inbetween se encarga de encontrar y contar todos los primos que hay entre $(p_n)^2$ y $(p_{n+1})^2$. Dependiendo del número de primos, dirá si la conjetura se cumple o no."
   ]
  },
  {
   "cell_type": "code",
   "execution_count": 27,
   "metadata": {},
   "outputs": [
    {
     "name": "stdout",
     "output_type": "stream",
     "text": [
      "(Pn)^2 = 12769\n",
      "(Pn+1)^2 = 16129\n",
      "Los primos que hay entre 12769 y 16129 son:\n",
      "12781, 12791, 12799, 12809, 12821, 12823, 12829, 12841, 12853, 12889, 12893, 12899, 12907, 12911, 12917, 12919, 12923, 12941, 12953, 12959, 12967, 12973, 12979, 12983, 13001, 13003, 13007, 13009, 13033, 13037, 13043, 13049, 13063, 13093, 13099, 13103, 13109, 13121, 13127, 13147, 13151, 13159, 13163, 13171, 13177, 13183, 13187, 13217, 13219, 13229, 13241, 13249, 13259, 13267, 13291, 13297, 13309, 13313, 13327, 13331, 13337, 13339, 13367, 13381, 13397, 13399, 13411, 13417, 13421, 13441, 13451, 13457, 13463, 13469, 13477, 13487, 13499, 13513, 13523, 13537, 13553, 13567, 13577, 13591, 13597, 13613, 13619, 13627, 13633, 13649, 13669, 13679, 13681, 13687, 13691, 13693, 13697, 13709, 13711, 13721, 13723, 13729, 13751, 13757, 13759, 13763, 13781, 13789, 13799, 13807, 13829, 13831, 13841, 13859, 13873, 13877, 13879, 13883, 13901, 13903, 13907, 13913, 13921, 13931, 13933, 13963, 13967, 13997, 13999, 14009, 14011, 14029, 14033, 14051, 14057, 14071, 14081, 14083, 14087, 14107, 14143, 14149, 14153, 14159, 14173, 14177, 14197, 14207, 14221, 14243, 14249, 14251, 14281, 14293, 14303, 14321, 14323, 14327, 14341, 14347, 14369, 14387, 14389, 14401, 14407, 14411, 14419, 14423, 14431, 14437, 14447, 14449, 14461, 14479, 14489, 14503, 14519, 14533, 14537, 14543, 14549, 14551, 14557, 14561, 14563, 14591, 14593, 14621, 14627, 14629, 14633, 14639, 14653, 14657, 14669, 14683, 14699, 14713, 14717, 14723, 14731, 14737, 14741, 14747, 14753, 14759, 14767, 14771, 14779, 14783, 14797, 14813, 14821, 14827, 14831, 14843, 14851, 14867, 14869, 14879, 14887, 14891, 14897, 14923, 14929, 14939, 14947, 14951, 14957, 14969, 14983, 15013, 15017, 15031, 15053, 15061, 15073, 15077, 15083, 15091, 15101, 15107, 15121, 15131, 15137, 15139, 15149, 15161, 15173, 15187, 15193, 15199, 15217, 15227, 15233, 15241, 15259, 15263, 15269, 15271, 15277, 15287, 15289, 15299, 15307, 15313, 15319, 15329, 15331, 15349, 15359, 15361, 15373, 15377, 15383, 15391, 15401, 15413, 15427, 15439, 15443, 15451, 15461, 15467, 15473, 15493, 15497, 15511, 15527, 15541, 15551, 15559, 15569, 15581, 15583, 15601, 15607, 15619, 15629, 15641, 15643, 15647, 15649, 15661, 15667, 15671, 15679, 15683, 15727, 15731, 15733, 15737, 15739, 15749, 15761, 15767, 15773, 15787, 15791, 15797, 15803, 15809, 15817, 15823, 15859, 15877, 15881, 15887, 15889, 15901, 15907, 15913, 15919, 15923, 15937, 15959, 15971, 15973, 15991, 16001, 16007, 16033, 16057, 16061, 16063, 16067, 16069, 16073, 16087, 16091, 16097, 16103, 16111, 16127\n",
      "Se cumple la conjetura de Brocard ya que hay 354 números primos\n"
     ]
    }
   ],
   "source": [
    "def print_primes_inbetween() -> None:\n",
    "    primeList: list[str] = []\n",
    "    primeCount: int = 0\n",
    "    print(\"Los primos que hay entre \" + str(primeN ** 2) + \" y \" + str(primeN1 ** 2) + \" son:\")\n",
    "    for n in range (primeN**2, primeN1**2):\n",
    "        if (is_prime(n)):\n",
    "            primeCount += 1\n",
    "            primeList.append(str(n))\n",
    "    print(', '.join(primeList))\n",
    "    if len(primeList) >= 4:\n",
    "        print(\"Se cumple la conjetura de Brocard ya que hay \" + str(primeCount) + \" números primos\")\n",
    "    else:\n",
    "        print(\"No se cumple la conjetura de Brocard ya que hay \" + str(primeCount) + \" números primos\")\n",
    "\n",
    "set_primes(primeIndex)\n",
    "print(\"(Pn)^2 = \" + str(primeN ** 2) + \"\\n(Pn+1)^2 = \" + str(primeN1 ** 2))\n",
    "print_primes_inbetween()"
   ]
  }
 ],
 "metadata": {
  "kernelspec": {
   "display_name": "Python 3",
   "language": "python",
   "name": "python3"
  },
  "language_info": {
   "codemirror_mode": {
    "name": "ipython",
    "version": 3
   },
   "file_extension": ".py",
   "mimetype": "text/x-python",
   "name": "python",
   "nbconvert_exporter": "python",
   "pygments_lexer": "ipython3",
   "version": "3.11.5"
  }
 },
 "nbformat": 4,
 "nbformat_minor": 2
}
