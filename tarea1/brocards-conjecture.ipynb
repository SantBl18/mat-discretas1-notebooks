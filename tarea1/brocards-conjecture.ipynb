{
 "cells": [
  {
   "cell_type": "markdown",
   "metadata": {},
   "source": [
    "En este notebook, se implementará un algoritmo donde dado un n concreto que indexa un número primo, se proveerán ejemplos donde se cumpla (o no) la conjetura de Brocard (https://en.wikipedia.org/wiki/Brocard%27s_conjecture) \n"
   ]
  },
  {
   "cell_type": "markdown",
   "metadata": {},
   "source": [
    "Importamos \"isqrt\" de la librería math de python. Esta función devuelve la raíz cuadrada entera de un entero no negativo.\n",
    "\"primeN\" es $p_n$ y \"primeN1\" es $p_{n+1}$\n"
   ]
  },
  {
   "cell_type": "code",
   "execution_count": 1,
   "metadata": {},
   "outputs": [],
   "source": [
    "from math import isqrt\n",
    "\n",
    "primeIndex: int = int(input(\"Ingrese un n mayor o igual que 2: \"))\n",
    "\n",
    "primeN: int = 0\n",
    "primeN1: int = 0"
   ]
  },
  {
   "cell_type": "markdown",
   "metadata": {},
   "source": [
    "La función set_primes se encarga de asignarle valores a primeN y primeN1 dependiendo del n que se haya introducido. Esta va contando los primos hasta llegar el enésimo primo + 1."
   ]
  },
  {
   "cell_type": "code",
   "execution_count": 2,
   "metadata": {},
   "outputs": [],
   "source": [
    "def set_primes(primeIndex: int) -> int:\n",
    "    currentPrime: int\n",
    "    primeCount: int = 0\n",
    "    n: int = 0\n",
    "    global primeN\n",
    "    global primeN1\n",
    "    while primeCount <= primeIndex + 1:\n",
    "        if is_prime(n):\n",
    "            currentPrime = n\n",
    "            primeCount += 1\n",
    "            if primeCount == primeIndex:\n",
    "                primeN = currentPrime\n",
    "            elif primeCount == primeIndex + 1:\n",
    "                primeN1 = currentPrime\n",
    "        n += 1"
   ]
  },
  {
   "cell_type": "markdown",
   "metadata": {},
   "source": [
    "La función is_prime se encarga de evaluar si un enteron n es primo o no. Este algoritmo se llama \"trial division\" y está mejor explicado en https://en.wikipedia.org/wiki/Primality_test#Simple_methods"
   ]
  },
  {
   "cell_type": "code",
   "execution_count": 3,
   "metadata": {},
   "outputs": [
    {
     "name": "stdout",
     "output_type": "stream",
     "text": [
      "(Pn)^2 = 121\n",
      "(Pn+1)^2 = 169\n",
      "Los primos que hay entre 121 y 169 son:\n",
      "127, 131, 137, 139, 149, 151, 157, 163, 167\n",
      "Se cumple la conjetura de Brocard ya que hay 9 números primos\n"
     ]
    }
   ],
   "source": [
    "def print_primes_inbetween() -> None:\n",
    "    primeList: list[str] = []\n",
    "    primeCount: int = 0\n",
    "    print(\"Los primos que hay entre \" + str(primeN ** 2) + \" y \" + str(primeN1 ** 2) + \" son:\")\n",
    "    for n in range (primeN**2, primeN1**2):\n",
    "        if (is_prime(n)):\n",
    "            primeCount += 1\n",
    "            primeList.append(str(n))\n",
    "    print(', '.join(primeList))\n",
    "    if len(primeList) >= 4:\n",
    "        print(\"Se cumple la conjetura de Brocard ya que hay \" + str(primeCount) + \" números primos\")\n",
    "    else:\n",
    "        print(\"No se cumple la conjetura de Brocard ya que hay \" + str(primeCount) + \" números primos\")\n",
    "\n",
    "set_primes(primeIndex)\n",
    "print(\"(Pn)^2 = \" + str(primeN ** 2) + \"\\n(Pn+1)^2 = \" + str(primeN1 ** 2))\n",
    "print_primes_inbetween()"
   ]
  }
 ],
 "metadata": {
  "kernelspec": {
   "display_name": "Python 3",
   "language": "python",
   "name": "python3"
  },
  "language_info": {
   "codemirror_mode": {
    "name": "ipython",
    "version": 3
   },
   "file_extension": ".py",
   "mimetype": "text/x-python",
   "name": "python",
   "nbconvert_exporter": "python",
   "pygments_lexer": "ipython3",
   "version": "3.11.5"
  }
 },
 "nbformat": 4,
 "nbformat_minor": 2
}
